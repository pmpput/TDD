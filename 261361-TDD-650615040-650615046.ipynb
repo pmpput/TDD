{
  "metadata": {
    "kernelspec": {
      "name": "python",
      "display_name": "Python (Pyodide)",
      "language": "python"
    },
    "language_info": {
      "codemirror_mode": {
        "name": "python",
        "version": 3
      },
      "file_extension": ".py",
      "mimetype": "text/x-python",
      "name": "python",
      "nbconvert_exporter": "python",
      "pygments_lexer": "ipython3",
      "version": "3.8"
    }
  },
  "nbformat_minor": 4,
  "nbformat": 4,
  "cells": [
    {
      "cell_type": "code",
      "source": "def print_diamond(letter):\n    # Calculate the size of the diamond\n    n = ord(letter) - ord('A')\n    \n    # Upper half\n    for i in range(n + 1):\n        spaces = ' ' * (n - i)\n        chars = chr(ord('A') + i)\n        if i > 0:\n            print(spaces + chars + ' ' * (2 * i - 1) + chars)\n        else:\n            print(spaces + chars)\n    \n    # Lower half\n    for i in range(n - 1, -1, -1):\n        spaces = ' ' * (n - i)\n        chars = chr(ord('A') + i)\n        if i > 0:\n            print(spaces + chars + ' ' * (2 * i - 1) + chars)\n        else:\n            print(spaces + chars)\n\n# Example usage:\nprint_diamond('A')",
      "metadata": {
        "trusted": true
      },
      "outputs": [
        {
          "name": "stdout",
          "text": "A\n",
          "output_type": "stream"
        }
      ],
      "execution_count": 11
    },
    {
      "cell_type": "code",
      "source": "def number_negatives(seq):\n    \"\"\"Number of negative residues a protein sequence\"\"\"\n    # Do nothing for now\n    pass",
      "metadata": {
        "trusted": true
      },
      "outputs": [],
      "execution_count": 8
    },
    {
      "cell_type": "code",
      "source": "number_negatives('E') == 1",
      "metadata": {
        "trusted": true
      },
      "outputs": [
        {
          "ename": "<class 'NameError'>",
          "evalue": "name 'number_negatives' is not defined",
          "traceback": [
            "\u001b[0;31m---------------------------------------------------------------------------\u001b[0m",
            "\u001b[0;31mNameError\u001b[0m                                 Traceback (most recent call last)",
            "Cell \u001b[0;32mIn[3], line 1\u001b[0m\n\u001b[0;32m----> 1\u001b[0m \u001b[43mnumber_negatives\u001b[49m(\u001b[38;5;124m'\u001b[39m\u001b[38;5;124mE\u001b[39m\u001b[38;5;124m'\u001b[39m) \u001b[38;5;241m==\u001b[39m \u001b[38;5;241m1\u001b[39m\n",
            "\u001b[0;31mNameError\u001b[0m: name 'number_negatives' is not defined"
          ],
          "output_type": "error"
        }
      ],
      "execution_count": 3
    },
    {
      "cell_type": "code",
      "source": "def number_negatives(seq):\n    \"\"\"Number of negative residues a protein sequence\"\"\"\n    # Do nothing for now\n    pass",
      "metadata": {
        "trusted": true
      },
      "outputs": [],
      "execution_count": 9
    },
    {
      "cell_type": "code",
      "source": "number_negatives('C') == 1",
      "metadata": {
        "trusted": true
      },
      "outputs": [
        {
          "execution_count": 7,
          "output_type": "execute_result",
          "data": {
            "text/plain": "False"
          },
          "metadata": {}
        }
      ],
      "execution_count": 7
    },
    {
      "cell_type": "code",
      "source": "def number_negatives(seq):\n    \"\"\"Number of negative residues a protein sequence\"\"\"\n    # Count A's and C's, since these are the negative residues\n    return seq.count('A') + seq.count('C')",
      "metadata": {
        "trusted": true
      },
      "outputs": [],
      "execution_count": 10
    },
    {
      "cell_type": "code",
      "source": "number_negatives('C') == 1",
      "metadata": {
        "trusted": true
      },
      "outputs": [
        {
          "execution_count": 5,
          "output_type": "execute_result",
          "data": {
            "text/plain": "True"
          },
          "metadata": {}
        }
      ],
      "execution_count": 5
    },
    {
      "cell_type": "code",
      "source": "",
      "metadata": {
        "trusted": true
      },
      "outputs": [],
      "execution_count": null
    }
  ]
}